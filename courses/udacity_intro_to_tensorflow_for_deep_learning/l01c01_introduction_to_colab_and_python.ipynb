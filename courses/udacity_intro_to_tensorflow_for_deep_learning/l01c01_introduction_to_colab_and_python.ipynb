{
  "cells": [
    {
      "cell_type": "markdown",
      "metadata": {
        "id": "Za8-Nr5k11fh"
      },
      "source": [
        "##### Copyright 2018 The TensorFlow Authors."
      ]
    },
    {
      "cell_type": "code",
      "source": [
        "# app.py\n",
        "from flask import Flask, request, jsonify\n",
        "import random\n",
        "import string\n",
        "\n",
        "app = Flask(__name__)\n",
        "\n",
        "# --- In-Memory Database (for demonstration purposes) ---\n",
        "# In a real app, you would use a proper database like PostgreSQL or MongoDB.\n",
        "users = {}\n",
        "invite_codes = {\n",
        "    'START123': {'used_by': None, 'created_by': 'system'},\n",
        "    'WELCOME456': {'used_by': None, 'created_by': 'system'}\n",
        "}\n",
        "waitlist = []\n",
        "\n",
        "# --- Helper Functions ---\n",
        "def generate_invite_code():\n",
        "    \"\"\"Generates a random 8-character string for a new invite code.\"\"\"\n",
        "    return ''.join(random.choices(string.ascii_uppercase + string.digits, k=8))\n",
        "\n",
        "# --- API Endpoints ---\n",
        "@app.route('/join', methods=['POST'])\n",
        "def join_with_invite():\n",
        "    \"\"\"Endpoint for a user to join using an invite code.\"\"\"\n",
        "    data = request.json\n",
        "    email = data.get('email')\n",
        "    code = data.get('code')\n",
        "\n",
        "    if not email or not code:\n",
        "        return jsonify({'error': 'Email and invite code are required.'}), 400\n",
        "\n",
        "    # Check if the invite code is valid and not used [cite: 7]\n",
        "    if code not in invite_codes or invite_codes[code]['used_by'] is not None:\n",
        "        return jsonify({'error': 'Invalid or already used invite code.'}), 403\n",
        "\n",
        "    # Create the new user\n",
        "    user_id = f\"user_{len(users) + 1}\"\n",
        "    users[user_id] = {'email': email, 'invite_codes_remaining': 2} # Each new member gets 2 invite codes [cite: 8]\n",
        "    invite_codes[code]['used_by'] = user_id\n",
        "\n",
        "    # Generate new codes for the new user\n",
        "    new_codes = [generate_invite_code(), generate_invite_code()]\n",
        "    for new_code in new_codes:\n",
        "        invite_codes[new_code] = {'used_by': None, 'created_by': user_id}\n",
        "\n",
        "    return jsonify({\n",
        "        'message': f'Welcome, {email}! You are now a member.',\n",
        "        'user_id': user_id,\n",
        "        'new_invite_codes': new_codes\n",
        "    }), 201\n",
        "\n",
        "@app.route('/apply', methods=['POST'])\n",
        "def apply_to_waitlist():\n",
        "    \"\"\"Endpoint for a user to apply by submitting their 'gift'[cite: 12].\"\"\"\n",
        "    data = request.json\n",
        "    email = data.get('email')\n",
        "    gift = data.get('gift') # The user submits their \"gift\" [cite: 12]\n",
        "\n",
        "    if not email or not gift:\n",
        "        return jsonify({'error': 'Email and gift submission are required.'}), 400\n",
        "\n",
        "    # Add user to the waitlist [cite: 10]\n",
        "    waitlist.append({'email': email, 'gift': gift})\n",
        "\n",
        "    return jsonify({\n",
        "        'message': 'Thank you for your application. You have been added to the waitlist.'\n",
        "    }), 200\n",
        "\n",
        "if __name__ == '__main__':\n",
        "    app.run(debug=True)"
      ],
      "metadata": {
        "colab": {
          "base_uri": "https://localhost:8080/"
        },
        "id": "dZgfBAkBKrlq",
        "outputId": "c989f9cc-b7a0-4c14-e0f1-3cf3d69bdf98"
      },
      "execution_count": 1,
      "outputs": [
        {
          "output_type": "stream",
          "name": "stdout",
          "text": [
            " * Serving Flask app '__main__'\n",
            " * Debug mode: on\n"
          ]
        },
        {
          "output_type": "stream",
          "name": "stderr",
          "text": [
            "INFO:werkzeug:\u001b[31m\u001b[1mWARNING: This is a development server. Do not use it in a production deployment. Use a production WSGI server instead.\u001b[0m\n",
            " * Running on http://127.0.0.1:5000\n",
            "INFO:werkzeug:\u001b[33mPress CTRL+C to quit\u001b[0m\n",
            "INFO:werkzeug: * Restarting with watchdog (inotify)\n",
            "ERROR:root:Unexpected exception finding object shape\n",
            "Traceback (most recent call last):\n",
            "  File \"/usr/local/lib/python3.12/dist-packages/google/colab/_debugpy_repr.py\", line 54, in get_shape\n",
            "    shape = getattr(obj, 'shape', None)\n",
            "            ^^^^^^^^^^^^^^^^^^^^^^^^^^^\n",
            "  File \"/usr/local/lib/python3.12/dist-packages/werkzeug/local.py\", line 318, in __get__\n",
            "    obj = instance._get_current_object()\n",
            "          ^^^^^^^^^^^^^^^^^^^^^^^^^^^^^^\n",
            "  File \"/usr/local/lib/python3.12/dist-packages/werkzeug/local.py\", line 519, in _get_current_object\n",
            "    raise RuntimeError(unbound_message) from None\n",
            "RuntimeError: Working outside of request context.\n",
            "\n",
            "This typically means that you attempted to use functionality that needed\n",
            "an active HTTP request. Consult the documentation on testing for\n",
            "information about how to avoid this problem.\n",
            "ERROR:root:Unexpected exception finding object shape\n",
            "Traceback (most recent call last):\n",
            "  File \"/usr/local/lib/python3.12/dist-packages/google/colab/_debugpy_repr.py\", line 54, in get_shape\n",
            "    shape = getattr(obj, 'shape', None)\n",
            "            ^^^^^^^^^^^^^^^^^^^^^^^^^^^\n",
            "  File \"/usr/local/lib/python3.12/dist-packages/werkzeug/local.py\", line 318, in __get__\n",
            "    obj = instance._get_current_object()\n",
            "          ^^^^^^^^^^^^^^^^^^^^^^^^^^^^^^\n",
            "  File \"/usr/local/lib/python3.12/dist-packages/werkzeug/local.py\", line 519, in _get_current_object\n",
            "    raise RuntimeError(unbound_message) from None\n",
            "RuntimeError: Working outside of request context.\n",
            "\n",
            "This typically means that you attempted to use functionality that needed\n",
            "an active HTTP request. Consult the documentation on testing for\n",
            "information about how to avoid this problem.\n"
          ]
        }
      ]
    },
    {
      "cell_type": "code",
      "source": [],
      "metadata": {
        "id": "1SddR3MKK-Is"
      },
      "execution_count": null,
      "outputs": []
    },
    {
      "cell_type": "code",
      "execution_count": null,
      "metadata": {
        "cellView": "form",
        "id": "Eq10uEbw0E4l"
      },
      "outputs": [],
      "source": [
        "#@title Licensed under the Apache License, Version 2.0 (the \"License\");\n",
        "# you may not use this file except in compliance with the License.\n",
        "# You may obtain a copy of the License at\n",
        "#\n",
        "# https://www.apache.org/licenses/LICENSE-2.0\n",
        "#\n",
        "# Unless required by applicable law or agreed to in writing, software\n",
        "# distributed under the License is distributed on an \"AS IS\" BASIS,\n",
        "# WITHOUT WARRANTIES OR CONDITIONS OF ANY KIND, either express or implied.\n",
        "# See the License for the specific language governing permissions and\n",
        "# limitations under the License."
      ]
    },
    {
      "cell_type": "markdown",
      "metadata": {
        "id": "YHI3vyhv5p85"
      },
      "source": [
        "## **Introduction to Colab and Python**"
      ]
    },
    {
      "cell_type": "markdown",
      "metadata": {
        "id": "OVi775ZJ2bsy"
      },
      "source": [
        "<table class=\"tfo-notebook-buttons\" align=\"left\">\n",
        "  <td>\n",
        "    <a target=\"_blank\" href=\"https://colab.research.google.com/github/tensorflow/examples/blob/master/courses/udacity_intro_to_tensorflow_for_deep_learning/l01c01_introduction_to_colab_and_python.ipynb\"><img src=\"https://www.tensorflow.org/images/colab_logo_32px.png\" />Run in Google Colab</a>\n",
        "  </td>\n",
        "  <td>\n",
        "    <a target=\"_blank\" href=\"https://github.com/tensorflow/examples/blob/master/courses/udacity_intro_to_tensorflow_for_deep_learning/l01c01_introduction_to_colab_and_python.ipynb\"><img src=\"https://www.tensorflow.org/images/GitHub-Mark-32px.png\" />View source on GitHub</a>\n",
        "  </td>\n",
        "</table>"
      ]
    },
    {
      "cell_type": "markdown",
      "metadata": {
        "id": "F8YVA_634OFk"
      },
      "source": [
        "Welcome to this Colab where you will get a quick introduction to the Python programming language and the environment used for the course's exercises: Colab.\n",
        "\n",
        "Colab is a Python development environment that runs in the browser using Google Cloud.\n",
        "\n",
        "For example, to print \"Hello World\", just hover the mouse over [ ] and press the play button to the upper left. Or press shift-enter to execute."
      ]
    },
    {
      "cell_type": "code",
      "execution_count": null,
      "metadata": {
        "id": "X9uIpOS2zx7k"
      },
      "outputs": [],
      "source": [
        "print(\"Hello World\")"
      ]
    },
    {
      "cell_type": "markdown",
      "metadata": {
        "id": "wwJGmDrQ0EoB"
      },
      "source": [
        "## Functions, Conditionals, and Iteration\n",
        "Let's create a Python function, and call it from a loop."
      ]
    },
    {
      "cell_type": "code",
      "execution_count": null,
      "metadata": {
        "id": "pRllo2HLfXiu"
      },
      "outputs": [],
      "source": [
        "def HelloWorldXY(x, y):\n",
        "  if (x < 10):\n",
        "    print(\"Hello World, x was < 10\")\n",
        "  elif (x < 20):\n",
        "    print(\"Hello World, x was >= 10 but < 20\")\n",
        "  else:\n",
        "    print(\"Hello World, x was >= 20\")\n",
        "  return x + y\n",
        "\n",
        "for i in range(8, 25, 5):  # i=8, 13, 18, 23 (start, stop, step)\n",
        "  print(\"--- Now running with i: {}\".format(i))\n",
        "  r = HelloWorldXY(i,i)\n",
        "  print(\"Result from HelloWorld: {}\".format(r))"
      ]
    },
    {
      "cell_type": "code",
      "execution_count": null,
      "metadata": {
        "id": "lHNmDCh0JpVP"
      },
      "outputs": [],
      "source": [
        "print(HelloWorldXY(1,2))"
      ]
    },
    {
      "cell_type": "markdown",
      "metadata": {
        "id": "kiZG7uhm8qCF"
      },
      "source": [
        "Easy, right?\n",
        "\n",
        "If you want a loop starting at 0 to 2 (exclusive) you could do any of the following"
      ]
    },
    {
      "cell_type": "code",
      "execution_count": null,
      "metadata": {
        "id": "m8YQN1H41L-Y"
      },
      "outputs": [],
      "source": [
        "print(\"Iterate over the items. `range(2)` is like a list [0,1].\")\n",
        "for i in range(2):\n",
        "  print(i)\n",
        "\n",
        "print(\"Iterate over an actual list.\")\n",
        "for i in [0,1]:\n",
        "  print(i)\n",
        "\n",
        "print(\"While works\")\n",
        "i = 0\n",
        "while i < 2:\n",
        "  print(i)\n",
        "  i += 1"
      ]
    },
    {
      "cell_type": "code",
      "execution_count": null,
      "metadata": {
        "id": "vIgmFZq4zszl"
      },
      "outputs": [],
      "source": [
        "print(\"Python supports standard key words like continue and break\")\n",
        "while True:\n",
        "  print(\"Entered while\")\n",
        "  break"
      ]
    },
    {
      "cell_type": "markdown",
      "metadata": {
        "id": "5QyOUhFw1OUX"
      },
      "source": [
        "## Numpy and lists\n",
        "Python has lists built into the language.\n",
        "However, we will use a library called numpy for this.\n",
        "Numpy gives you lots of support functions that are useful when doing Machine Learning.\n",
        "\n",
        "Here, you will also see an import statement. This statement makes the entire numpy package available and we can access those symbols using the abbreviated 'np' syntax."
      ]
    },
    {
      "cell_type": "code",
      "execution_count": null,
      "metadata": {
        "id": "4Dxk4q-jzEy4"
      },
      "outputs": [],
      "source": [
        "import numpy as np  # Make numpy available using np.\n",
        "\n",
        "# Create a numpy array, and append an element\n",
        "a = np.array([\"Hello\", \"World\"])\n",
        "a = np.append(a, \"!\")\n",
        "print(\"Current array: {}\".format(a))\n",
        "print(\"Printing each element\")\n",
        "for i in a:\n",
        "  print(i)\n",
        "\n",
        "print(\"\\nPrinting each element and their index\")\n",
        "for i,e in enumerate(a):\n",
        "  print(\"Index: {}, was: {}\".format(i, e))"
      ]
    },
    {
      "cell_type": "code",
      "execution_count": null,
      "metadata": {
        "id": "RTa8_9G3LV03"
      },
      "outputs": [],
      "source": [
        "print(\"\\nShowing some basic math on arrays\")\n",
        "b = np.array([0,1,4,3,2])\n",
        "print(\"Max: {}\".format(np.max(b)))\n",
        "print(\"Average: {}\".format(np.average(b)))\n",
        "print(\"Max index: {}\".format(np.argmax(b)))"
      ]
    },
    {
      "cell_type": "code",
      "execution_count": null,
      "metadata": {
        "id": "9YaGj5n4LW7P"
      },
      "outputs": [],
      "source": [
        "print(\"\\nYou can print the type of anything\")\n",
        "print(\"Type of b: {}, type of b[0]: {}\".format(type(b), type(b[0])))"
      ]
    },
    {
      "cell_type": "code",
      "execution_count": null,
      "metadata": {
        "id": "V6ilVhi9LXn_"
      },
      "outputs": [],
      "source": [
        "print(\"\\nUse numpy to create a [3,3] dimension array with random number\")\n",
        "c = np.random.rand(3, 3)\n",
        "print(c)"
      ]
    },
    {
      "cell_type": "code",
      "execution_count": null,
      "metadata": {
        "id": "W_Q-DkFCLYGA"
      },
      "outputs": [],
      "source": [
        "print(\"\\nYou can print the dimensions of arrays\")\n",
        "print(\"Shape of a: {}\".format(a.shape))\n",
        "print(\"Shape of b: {}\".format(b.shape))\n",
        "print(\"Shape of c: {}\".format(c.shape))\n",
        "print(\"...Observe, Python uses both [0,1,2] and (0,1,2) to specify lists\")"
      ]
    },
    {
      "cell_type": "markdown",
      "metadata": {
        "id": "c-Jk4dG91dvD"
      },
      "source": [
        "## Colab Specifics"
      ]
    },
    {
      "cell_type": "markdown",
      "metadata": {
        "id": "G0cGd8sHEmKi"
      },
      "source": [
        "Colab is a virtual machine you can access directly. To run commands at the VM's terminal, prefix the line with an exclamation point (!).\n"
      ]
    },
    {
      "cell_type": "code",
      "execution_count": null,
      "metadata": {
        "id": "cLkfhyzq0W2y"
      },
      "outputs": [],
      "source": [
        "print(\"\\nDoing $ls on filesystem\")\n",
        "!ls -l\n",
        "!pwd"
      ]
    },
    {
      "cell_type": "code",
      "execution_count": null,
      "metadata": {
        "id": "gR2WTN1cOZ1n"
      },
      "outputs": [],
      "source": [
        "print(\"Install numpy\")  # Just for test, numpy is actually preinstalled in all Colab instances\n",
        "!pip install numpy"
      ]
    },
    {
      "cell_type": "markdown",
      "metadata": {
        "id": "QuWRpQdatAIU"
      },
      "source": [
        "**Exercise**\n",
        "\n",
        "Create a code cell underneath this text cell and add code to:\n",
        "\n",
        "\n",
        "*   List the path of the current directory (pwd)\n",
        "* Go to / (cd) and list the content (ls -l)"
      ]
    },
    {
      "cell_type": "code",
      "execution_count": null,
      "metadata": {
        "id": "xU-cJbMCR61P"
      },
      "outputs": [],
      "source": [
        "!pwd\n",
        "!cd /\n",
        "!ls -l\n",
        "print(\"Hello\")"
      ]
    },
    {
      "cell_type": "markdown",
      "metadata": {
        "id": "7b5jv0ouFREV"
      },
      "source": [
        "All usage of Colab in this course is completely free or charge. Even GPU usage is provided free of charge for some hours of usage every day.\n",
        "\n",
        "**Using GPUs**\n",
        "* Many of the exercises in the course executes more quickly by using GPU runtime: Runtime | Change runtime type | Hardware accelerator | GPU\n",
        "\n",
        "**Some final words on Colab**\n",
        "*   You execute each cell in order, you can edit & re-execute cells if you want\n",
        "*   Sometimes, this could have unintended consequences. For example, if you add a dimension to an array and execute the cell multiple times, then the cells after may not work. If you encounter problem reset your environment:\n",
        "  *   Runtime -> Restart runtime... Resets your Python shell\n",
        "  *   Runtime -> Restart all runtimes... Will reset the Colab image, and get you back to a 100% clean environment\n",
        "* You can also clear the output in the Colab by doing: Edit -> Clear all outputs\n",
        "* Colabs in this course are loaded from GitHub. Save to your Google Drive if you want a copy with your code/output: File -> Save a copy in Drive...\n",
        "\n",
        "**Learn More**\n",
        "*   Check out [this](https://www.youtube.com/watch?v=inN8seMm7UI&list=PLQY2H8rRoyvwLbzbnKJ59NkZvQAW9wLbx&index=3) episode of #CodingTensorFlow, and don't forget to subscribe to the YouTube channel ;)\n"
      ]
    },
    {
      "cell_type": "markdown",
      "metadata": {
        "id": "072f32c3"
      },
      "source": [
        "# Task\n",
        "Extract the project requirements from the document \"/content/144K App – Candidate Assignment.docx\"."
      ]
    },
    {
      "cell_type": "markdown",
      "metadata": {
        "id": "4db51fbc"
      },
      "source": [
        "## Install necessary libraries\n",
        "\n",
        "### Subtask:\n",
        "Install libraries for reading Word documents.\n"
      ]
    },
    {
      "cell_type": "markdown",
      "metadata": {
        "id": "6d352223"
      },
      "source": [
        "**Reasoning**:\n",
        "The subtask is to install the `python-docx` library. This can be done using the pip package manager.\n",
        "\n"
      ]
    },
    {
      "cell_type": "code",
      "metadata": {
        "colab": {
          "base_uri": "https://localhost:8080/"
        },
        "id": "4e66f920",
        "outputId": "d1c103b6-c045-453f-f9ec-e427ef689f7c"
      },
      "source": [
        "!pip install python-docx"
      ],
      "execution_count": 2,
      "outputs": [
        {
          "output_type": "stream",
          "name": "stdout",
          "text": [
            "Collecting python-docx\n",
            "  Downloading python_docx-1.2.0-py3-none-any.whl.metadata (2.0 kB)\n",
            "Requirement already satisfied: lxml>=3.1.0 in /usr/local/lib/python3.12/dist-packages (from python-docx) (5.4.0)\n",
            "Requirement already satisfied: typing_extensions>=4.9.0 in /usr/local/lib/python3.12/dist-packages (from python-docx) (4.15.0)\n",
            "Downloading python_docx-1.2.0-py3-none-any.whl (252 kB)\n",
            "\u001b[?25l   \u001b[90m━━━━━━━━━━━━━━━━━━━━━━━━━━━━━━━━━━━━━━━━\u001b[0m \u001b[32m0.0/253.0 kB\u001b[0m \u001b[31m?\u001b[0m eta \u001b[36m-:--:--\u001b[0m\r\u001b[2K   \u001b[91m━━━━━━━━━━━━━━━━━━━━━━━━━━━━━━━━━━━━━━\u001b[0m\u001b[91m╸\u001b[0m\u001b[90m━\u001b[0m \u001b[32m245.8/253.0 kB\u001b[0m \u001b[31m8.7 MB/s\u001b[0m eta \u001b[36m0:00:01\u001b[0m\r\u001b[2K   \u001b[90m━━━━━━━━━━━━━━━━━━━━━━━━━━━━━━━━━━━━━━━━\u001b[0m \u001b[32m253.0/253.0 kB\u001b[0m \u001b[31m6.5 MB/s\u001b[0m eta \u001b[36m0:00:00\u001b[0m\n",
            "\u001b[?25hInstalling collected packages: python-docx\n",
            "Successfully installed python-docx-1.2.0\n"
          ]
        }
      ]
    },
    {
      "cell_type": "markdown",
      "metadata": {
        "id": "4941cbac"
      },
      "source": [
        "## Read the document\n",
        "\n",
        "### Subtask:\n",
        "Load the content of the Word document into a readable format.\n"
      ]
    },
    {
      "cell_type": "markdown",
      "metadata": {
        "id": "e5ebe57d"
      },
      "source": [
        "**Reasoning**:\n",
        "Import the `Document` class and load the document content into a variable.\n",
        "\n"
      ]
    },
    {
      "cell_type": "code",
      "metadata": {
        "id": "a7c378c4"
      },
      "source": [
        "from docx import Document\n",
        "\n",
        "doc_path = '/content/144K App – Candidate Assignment.docx'\n",
        "document = Document(doc_path)\n",
        "\n",
        "# You can access paragraphs and tables in the document like this:\n",
        "# for paragraph in document.paragraphs:\n",
        "#     print(paragraph.text)\n",
        "\n",
        "# for table in document.tables:\n",
        "#     for row in table.rows:\n",
        "#         for cell in row.cells:\n",
        "#             print(cell.text)"
      ],
      "execution_count": 3,
      "outputs": []
    },
    {
      "cell_type": "markdown",
      "metadata": {
        "id": "dda1c1c9"
      },
      "source": [
        "## Extract requirements\n",
        "\n",
        "### Subtask:\n",
        "Analyze the document content to identify and extract project requirements.\n"
      ]
    },
    {
      "cell_type": "markdown",
      "metadata": {
        "id": "c192e095"
      },
      "source": [
        "**Reasoning**:\n",
        "Iterate through the document's paragraphs and tables to extract all text content and store it in a list.\n",
        "\n"
      ]
    },
    {
      "cell_type": "code",
      "metadata": {
        "colab": {
          "base_uri": "https://localhost:8080/"
        },
        "id": "cc9314b9",
        "outputId": "1105c677-900a-481f-b1cf-683134792e71"
      },
      "source": [
        "requirements = []\n",
        "\n",
        "for paragraph in document.paragraphs:\n",
        "    requirements.append(paragraph.text)\n",
        "\n",
        "for table in document.tables:\n",
        "    for row in table.rows:\n",
        "        for cell in row.cells:\n",
        "            requirements.append(cell.text)\n",
        "\n",
        "print(requirements[:10]) # Print the first 10 items to check the extraction"
      ],
      "execution_count": 4,
      "outputs": [
        {
          "output_type": "stream",
          "name": "stdout",
          "text": [
            "['144K App – Candidate Assignment', 'Overview', 'We are building 144K, an invite-only app inspired by the idea of 144,000 awakened people forming a critical mass for global transformation.', 'Your assignment is to design and/or develop the MVP version of this app, focusing on invite-only access and a magnetic user experience.', '', 'Core Requirements (MVP Scope)', 'Invite System\\n', 'Users join by invite code.\\n', 'Each new member gets 2 invite codes (later phases reduce to 1 → 0).\\n', 'Inactive users lose their spot.\\n']\n"
          ]
        }
      ]
    },
    {
      "cell_type": "markdown",
      "metadata": {
        "id": "9cf4e6fe"
      },
      "source": [
        "## Summarize requirements\n",
        "\n",
        "### Subtask:\n",
        "Present the extracted requirements in a clear and organized manner.\n"
      ]
    },
    {
      "cell_type": "markdown",
      "metadata": {
        "id": "f00b810a"
      },
      "source": [
        "**Reasoning**:\n",
        "Filter and organize the extracted requirements and then print them in a clear format.\n",
        "\n"
      ]
    },
    {
      "cell_type": "code",
      "metadata": {
        "colab": {
          "base_uri": "https://localhost:8080/"
        },
        "id": "27362d8c",
        "outputId": "1b55ebe0-47ec-4a91-f565-50ee16e5caa1"
      },
      "source": [
        "# Filter out empty strings and non-essential lines\n",
        "filtered_requirements = [req.strip() for req in requirements if req.strip()]\n",
        "\n",
        "# Simple organization based on keywords or patterns observed in the document structure\n",
        "core_requirements = []\n",
        "invite_system_requirements = []\n",
        "waitlist_requirements = []\n",
        "other_requirements = []\n",
        "\n",
        "current_section = None\n",
        "\n",
        "for req in filtered_requirements:\n",
        "    lower_req = req.lower()\n",
        "    if 'core requirements' in lower_req or 'mvp scope' in lower_req:\n",
        "        current_section = 'core'\n",
        "    elif 'invite system' in lower_req:\n",
        "        current_section = 'invite_system'\n",
        "    elif 'waitlist' in lower_req or \"gift'\" in lower_req: # 'gift' is mentioned in waitlist section\n",
        "        current_section = 'waitlist'\n",
        "    elif req.endswith(':'): # Likely a section header not caught by keywords\n",
        "         current_section = 'other'\n",
        "    elif current_section == 'core':\n",
        "        core_requirements.append(req)\n",
        "    elif current_section == 'invite_system':\n",
        "        invite_system_requirements.append(req)\n",
        "    elif current_section == 'waitlist':\n",
        "        waitlist_requirements.append(req)\n",
        "    else:\n",
        "        other_requirements.append(req)\n",
        "\n",
        "\n",
        "# Print the organized requirements\n",
        "print(\"--- Core Requirements (MVP Scope) ---\")\n",
        "for req in core_requirements:\n",
        "    print(f\"- {req}\")\n",
        "\n",
        "print(\"\\n--- Invite System ---\")\n",
        "for req in invite_system_requirements:\n",
        "     # Further filter out section headers within the section if needed\n",
        "    if not req.lower().startswith('invite system'):\n",
        "        print(f\"- {req}\")\n",
        "\n",
        "print(\"\\n--- Waitlist ---\")\n",
        "for req in waitlist_requirements:\n",
        "     # Further filter out section headers within the section if needed\n",
        "    if not req.lower().startswith('waitlist'):\n",
        "        print(f\"- {req}\")\n",
        "\n",
        "print(\"\\n--- Other Requirements/Details ---\")\n",
        "for req in other_requirements:\n",
        "    print(f\"- {req}\")"
      ],
      "execution_count": 5,
      "outputs": [
        {
          "output_type": "stream",
          "name": "stdout",
          "text": [
            "--- Core Requirements (MVP Scope) ---\n",
            "\n",
            "--- Invite System ---\n",
            "- Users join by invite code.\n",
            "- Each new member gets 2 invite codes (later phases reduce to 1 → 0).\n",
            "- Inactive users lose their spot.\n",
            "\n",
            "--- Waitlist ---\n",
            "- Onboarding\n",
            "- If no invite code, user can apply by submitting their “gift” (reason or offering for inclusion).\n",
            "- Community Structure\n",
            "- Organize users into groups of 12 to emphasize exclusivity and coherence.\n",
            "- Design & UX\n",
            "- The app should feel exclusive, cool, and magnetic.\n",
            "- Users should want to immediately invite the two coolest people they know.\n",
            "- Assignment Tracks\n",
            "\n",
            "--- Other Requirements/Details ---\n",
            "- 144K App – Candidate Assignment\n",
            "- Overview\n",
            "- We are building 144K, an invite-only app inspired by the idea of 144,000 awakened people forming a critical mass for global transformation.\n",
            "- Your assignment is to design and/or develop the MVP version of this app, focusing on invite-only access and a magnetic user experience.\n",
            "- 🔹 Tech & UX Track\n",
            "- Build a working MVP (mobile/web).\n",
            "- APK / deployed version.\n",
            "- Demo video (invite flow + UX).\n",
            "- 1-page note on design choices(Timeline DOC).\n",
            "- 🔹 Vision & Leadership Track\n",
            "- Why you should be a co-leader / co-steward of 144K.\n",
            "- What unique gift or offering you bring.\n",
            "- Selection Criteria\n",
            "- Tech & UX: Functionality, design quality, and user excitement factor.\n",
            "- Vision & Leadership: Authenticity, alignment with mission, and strength of contribution.\n",
            "- Final Note\n",
            "- This project is not just an app, it's the seed of a global movement. Move fast, be creative, and make something people feel compelled to share.\n",
            "- ✨ Your mission: Build the MVP. Share your gift. Help us reach 144K.\n"
          ]
        }
      ]
    },
    {
      "cell_type": "markdown",
      "metadata": {
        "id": "be4b40c2"
      },
      "source": [
        "## Summary:\n",
        "\n",
        "### Data Analysis Key Findings\n",
        "\n",
        "*   The `python-docx` library was successfully installed, enabling the reading of the Word document.\n",
        "*   The content of the document `/content/144K App – Candidate Assignment.docx` was successfully loaded and made accessible.\n",
        "*   Text content from both paragraphs and tables within the document was extracted.\n",
        "*   The extracted text included key headings and bullet points related to project requirements, such as 'Core Requirements (MVP Scope)', 'Invite System', and 'Users join by invite code.'.\n",
        "*   The extracted requirements were filtered to remove empty lines and organized into sections based on keywords like 'Core Requirements', 'Invite System', and 'Waitlist'.\n",
        "*   The organized requirements were presented under clear headings with bullet points for readability.\n",
        "\n",
        "### Insights or Next Steps\n",
        "\n",
        "*   The current method of organizing requirements relies on simple keyword matching and sequential processing. A more robust approach could involve analyzing document structure (like headings and list items) directly using the `python-docx` library to ensure more accurate categorization.\n",
        "*   Further analysis could involve identifying specific requirement types (e.g., functional, non-functional) within each section or extracting detailed specifications associated with each bullet point.\n"
      ]
    },
    {
      "cell_type": "markdown",
      "metadata": {
        "id": "7bb7928f"
      },
      "source": [
        "# Task\n",
        "Create a full project based on the requirements in the document \"/content/144K App – Candidate Assignment.docx\"."
      ]
    },
    {
      "cell_type": "markdown",
      "metadata": {
        "id": "9a89df74"
      },
      "source": [
        "## Set up the project structure\n",
        "\n",
        "### Subtask:\n",
        "Create the necessary directories and files for the project, including a basic Flask application structure.\n"
      ]
    },
    {
      "cell_type": "markdown",
      "metadata": {
        "id": "12abb11a"
      },
      "source": [
        "**Reasoning**:\n",
        "Create the project directory and the basic file structure using shell commands.\n",
        "\n"
      ]
    },
    {
      "cell_type": "code",
      "metadata": {
        "colab": {
          "base_uri": "https://localhost:8080/"
        },
        "id": "eed8a525",
        "outputId": "750adf73-6314-4566-d244-b9843ca2a6c7"
      },
      "source": [
        "!mkdir 144k_app\n",
        "!cd 144k_app\n",
        "!touch app.py\n",
        "!mkdir templates\n",
        "!mkdir static\n",
        "!ls -R"
      ],
      "execution_count": 6,
      "outputs": [
        {
          "output_type": "stream",
          "name": "stdout",
          "text": [
            ".:\n",
            " 144k_app\t\t\t\t app.py        static\n",
            "'144K App – Candidate Assignment.docx'\t sample_data   templates\n",
            "\n",
            "./144k_app:\n",
            "\n",
            "./sample_data:\n",
            "anscombe.json\t\t      mnist_test.csv\n",
            "california_housing_test.csv   mnist_train_small.csv\n",
            "california_housing_train.csv  README.md\n",
            "\n",
            "./static:\n",
            "\n",
            "./templates:\n"
          ]
        }
      ]
    },
    {
      "cell_type": "markdown",
      "metadata": {
        "id": "68576bab"
      },
      "source": [
        "## Implement the invite system\n",
        "\n",
        "### Subtask:\n",
        "Write the code for generating, validating, and managing invite codes, including the logic for new users receiving codes and inactive users losing their spot.\n"
      ]
    },
    {
      "cell_type": "markdown",
      "metadata": {
        "id": "99f8f0d9"
      },
      "source": [
        "**Reasoning**:\n",
        "Implement the invite code generation, validation, and assignment logic within the `app.py` file as per the subtask instructions.\n",
        "\n"
      ]
    },
    {
      "cell_type": "code",
      "metadata": {
        "id": "38fa23c7",
        "outputId": "5bda50b7-d337-4b11-ca61-69f897256895",
        "colab": {
          "base_uri": "https://localhost:8080/"
        }
      },
      "source": [
        "# app.py\n",
        "from flask import Flask, request, jsonify\n",
        "import random\n",
        "import string\n",
        "\n",
        "app = Flask(__name__)\n",
        "\n",
        "# --- In-Memory Database (for demonstration purposes) ---\n",
        "# In a real app, you would use a proper database like PostgreSQL or MongoDB.\n",
        "users = {}\n",
        "invite_codes = {\n",
        "    'START123': {'used_by': None, 'created_by': 'system'},\n",
        "    'WELCOME456': {'used_by': None, 'created_by': 'system'}\n",
        "}\n",
        "waitlist = []\n",
        "\n",
        "# --- Helper Functions ---\n",
        "def generate_invite_code():\n",
        "    \"\"\"Generates a random 8-character string for a new invite code.\"\"\"\n",
        "    # Ensure the generated code is unique\n",
        "    while True:\n",
        "        code = ''.join(random.choices(string.ascii_uppercase + string.digits, k=8))\n",
        "        if code not in invite_codes:\n",
        "            return code\n",
        "\n",
        "# --- API Endpoints ---\n",
        "@app.route('/join', methods=['POST'])\n",
        "def join_with_invite():\n",
        "    \"\"\"Endpoint for a user to join using an invite code.\"\"\"\n",
        "    data = request.json\n",
        "    email = data.get('email')\n",
        "    code = data.get('code')\n",
        "\n",
        "    if not email or not code:\n",
        "        return jsonify({'error': 'Email and invite code are required.'}), 400\n",
        "\n",
        "    # Check if the invite code is valid and not used\n",
        "    if code not in invite_codes or invite_codes[code]['used_by'] is not None:\n",
        "        return jsonify({'error': 'Invalid or already used invite code.'}), 403\n",
        "\n",
        "    # Create the new user\n",
        "    user_id = f\"user_{len(users) + 1}\"\n",
        "    # Each new member gets 2 invite codes (later phases reduce to 1 → 0).\n",
        "    users[user_id] = {'email': email, 'invite_codes_remaining': 2}\n",
        "    invite_codes[code]['used_by'] = user_id\n",
        "\n",
        "    # Generate new codes for the new user\n",
        "    new_codes = [generate_invite_code() for _ in range(users[user_id]['invite_codes_remaining'])]\n",
        "    for new_code in new_codes:\n",
        "        invite_codes[new_code] = {'used_by': None, 'created_by': user_id}\n",
        "\n",
        "    # TODO: Implement logic for inactive users losing their spot.\n",
        "\n",
        "    return jsonify({\n",
        "        'message': f'Welcome, {email}! You are now a member.',\n",
        "        'user_id': user_id,\n",
        "        'new_invite_codes': new_codes\n",
        "    }), 201\n",
        "\n",
        "@app.route('/apply', methods=['POST'])\n",
        "def apply_to_waitlist():\n",
        "    \"\"\"Endpoint for a user to apply by submitting their 'gift'.\"\"\"\n",
        "    data = request.json\n",
        "    email = data.get('email')\n",
        "    gift = data.get('gift') # The user submits their \"gift\"\n",
        "\n",
        "    if not email or not gift:\n",
        "        return jsonify({'error': 'Email and gift submission are required.'}), 400\n",
        "\n",
        "    # Add user to the waitlist\n",
        "    waitlist.append({'email': email, 'gift': gift})\n",
        "\n",
        "    return jsonify({\n",
        "        'message': 'Thank you for your application. You have been added to the waitlist.'\n",
        "    }), 200\n",
        "\n",
        "if __name__ == '__main__':\n",
        "    app.run(debug=True, use_reloader=False) # use_reloader=False to prevent double execution in some environments\n"
      ],
      "execution_count": null,
      "outputs": [
        {
          "output_type": "stream",
          "name": "stdout",
          "text": [
            " * Serving Flask app '__main__'\n",
            " * Debug mode: on\n"
          ]
        },
        {
          "output_type": "stream",
          "name": "stderr",
          "text": [
            "INFO:werkzeug:\u001b[31m\u001b[1mWARNING: This is a development server. Do not use it in a production deployment. Use a production WSGI server instead.\u001b[0m\n",
            " * Running on http://127.0.0.1:5000\n",
            "INFO:werkzeug:\u001b[33mPress CTRL+C to quit\u001b[0m\n"
          ]
        }
      ]
    }
  ],
  "metadata": {
    "accelerator": "GPU",
    "colab": {
      "name": "l01c01_introduction_to_colab_and_python.ipynb",
      "provenance": []
    },
    "kernelspec": {
      "display_name": "Python 3",
      "name": "python3"
    }
  },
  "nbformat": 4,
  "nbformat_minor": 0
}